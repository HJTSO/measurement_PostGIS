{
 "cells": [
  {
   "cell_type": "markdown",
   "metadata": {},
   "source": [
    "---\n",
    "title: Deep learning笔记4-TreeRNN递归神经网络\n",
    "lang: zh\n",
    "date: 2017-10-20 18:18:56\n",
    "---"
   ]
  },
  {
   "cell_type": "markdown",
   "metadata": {},
   "source": [
    "### 1. 递归神经网络（TreeRNN）\n",
    "-------------------------------------\n",
    "\n",
    "<center>![CNN](/image/DL/2/1.png)</center> \n",
    "\n",
    "-------------------------------------\n",
    "\n",
    "一个循环神经网络层组成。\n",
    "\n",
    "#### 1.1. 递归神经网络输出值的计算\n",
    "\n",
    "\n",
    "-------------------------------------\n",
    "\n",
    "#### 1.2. 递归公式的计算\n",
    "\n",
    "用\n",
    "\n",
    "#### 1.3. 递归神经网络的训练\n",
    "\n",
    "先前向传播，再反向传播，利用链式求导计算损失函数对每个权重的偏导数（梯度），然后再根据梯度下降公式更新权重w"
   ]
  },
  {
   "cell_type": "markdown",
   "metadata": {},
   "source": [
    "### 2. 在自然语言处理的应用（NLP）"
   ]
  },
  {
   "cell_type": "markdown",
   "metadata": {},
   "source": [
    "\n",
    "### 参考资料（Reference）\n",
    "\n",
    "- [零基础入门深度学习(7) - 递归神经网络](https://zybuluo.com/hanbingtao/note/626300 \"Title\") \n",
    "\n",
    "- [Reccusive Neural Networkを用いた文章と句の類似度算出](https://qiita.com/hiroto0227/items/ea1c723903a3e20a32e2 \"Title\") \n",
    "\n",
    "- [Socher氏論文推論にNeural Tensor（テンソル）Networkモデルの提案](https://qiita.com/HirofumiYashima/items/8ced35dcb437ed6aab6c \"Title\") \n",
    "\n",
    "- [Recursive Neural Network](http://www.iro.umontreal.ca/~bengioy/talks/gss2012-YB6-NLP-recursive.pdf\"Title\") \n",
    "\n",
    "- [Recursive Deep Models](https://nlp.stanford.edu/~socherr/EMNLP2013_RNTN.pdf \"Title\") "
   ]
  },
  {
   "cell_type": "code",
   "execution_count": null,
   "metadata": {
    "collapsed": true
   },
   "outputs": [],
   "source": []
  }
 ],
 "metadata": {
  "kernelspec": {
   "display_name": "Python 3",
   "language": "python",
   "name": "python3"
  },
  "language_info": {
   "codemirror_mode": {
    "name": "ipython",
    "version": 3
   },
   "file_extension": ".py",
   "mimetype": "text/x-python",
   "name": "python",
   "nbconvert_exporter": "python",
   "pygments_lexer": "ipython3",
   "version": "3.6.1"
  }
 },
 "nbformat": 4,
 "nbformat_minor": 2
}
