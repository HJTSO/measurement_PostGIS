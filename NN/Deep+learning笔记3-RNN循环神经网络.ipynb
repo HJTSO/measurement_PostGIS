{
 "cells": [
  {
   "cell_type": "markdown",
   "metadata": {},
   "source": [
    "---\n",
    "title: Deep learning笔记3-RNN循环神经网络\n",
    "lang: zh\n",
    "date: 2017-10-18 09:18:56\n",
    "--- "
   ]
  },
  {
   "cell_type": "markdown",
   "metadata": {},
   "source": [
    "### 1. 循环神经网络（RNN）\n",
    "-------------------------------------\n",
    "\n",
    "<center>![CNN](/image/DL/2/1.png)</center> \n",
    "\n",
    "-------------------------------------\n",
    "\n",
    "一个循环神经网络层组成。\n",
    "\n",
    "#### 1.1. 循环神经网络输出值的计算\n",
    "\n",
    "\n",
    "-------------------------------------\n",
    "\n",
    "#### 1.2. 循环公式的计算\n",
    "\n",
    "用\n",
    "\n",
    "#### 1.3. 循环神经网络的训练\n",
    "\n",
    "先前向传播，再反向传播，利用链式求导计算损失函数对每个权重的偏导数（梯度），然后再根据梯度下降公式更新权重w"
   ]
  },
  {
   "cell_type": "markdown",
   "metadata": {},
   "source": [
    "### 2. 长短时记忆网络（LSTM）\n",
    "-------------------------------------\n",
    "\n",
    "<center>![CNN](/image/DL/2/1.png)</center> \n",
    "\n",
    "-------------------------------------\n",
    "\n",
    "一个循环神经网络层组成。\n",
    "\n",
    "#### 2.1. 简介\n",
    "\n",
    "-------------------------------------\n",
    "\n",
    "#### 2.2. 循环神经网络的训练\n",
    "\n",
    "先前向传播，再反向传播，利用链式求导计算损失函数对每个权重的偏导数（梯度），然后再根据梯度下降公式更新权重w"
   ]
  },
  {
   "cell_type": "markdown",
   "metadata": {},
   "source": [
    "### 3. 基于TensorFlow的实现（RNN/LSTM with TF）\n",
    "\n",
    "#### 3.1. TF循环神经网络的基本实现\n",
    "\n",
    "```python\n",
    "\n",
    "# Input/Image\n",
    "input = tf.placeholder(\n",
    "    tf.float32,\n",
    "    shape=[None, image_height, image_width, color_channels])\n",
    "\n",
    "```\n",
    "#### 3.2. TF循环神经网络的基本实现\n",
    "\n",
    "#### 3.3. TF循环神经网络的基本实现\n",
    "\n",
    "#### 3.4. TF循环神经网络的实现例\n",
    "Make TV scripts using RNN(Recurrent Neural Networks) and LSTM(Long Short-Term Memory) network. Generate a new TV script with the model from TV scripts training data sets.\n",
    "RNN(Recurrent Neural Networks)及びLSTM(Long Short-Term Memory)を使用して、訓練データを用いたモデルを作成して、新しいテレビスクリプトを生成する。\n",
    "\n",
    "程序实例 - [Github Link](https://github.com/HJTSO/tv-script-generation/blob/master/dlnd_tv_script_generation.ipynb \"Title\") "
   ]
  },
  {
   "cell_type": "markdown",
   "metadata": {},
   "source": [
    "### 4. 词分析框架（Word Framework）\n",
    "\n",
    "#### 4.1. word2vec\n",
    "#### 4.2. seg2seq\n",
    "\n",
    "推荐阅读 - [LSTMで夏目漱石ぽい文章の生成](https://qiita.com/elm200/items/6f84d3a42eebe6c47caa \"Title\")"
   ]
  },
  {
   "cell_type": "markdown",
   "metadata": {},
   "source": [
    "### 程序实例（Program Example）\n",
    "\n",
    "- [Github Link](https://github.com/HJTSO/tv-script-generation/blob/master/dlnd_tv_script_generation.ipynb \"Title\") \n",
    "\n",
    "### 参考资料（Reference）\n",
    "\n",
    "- [Understanding LSTM Networks](http://colah.github.io/posts/2015-08-Understanding-LSTMs/ \"Title\") \n",
    "\n",
    "- [TensorFlow中RNN实现](https://zhuanlan.zhihu.com/p/28196873 \"Title\") \n",
    "\n",
    "- [零基础入门深度学习(5) - 循环神经网络](https://zybuluo.com/hanbingtao/note/541458 \"Title\") \n",
    "\n",
    "- [零基础入门深度学习(6) - 长短时记忆网络](https://zybuluo.com/hanbingtao/note/581764 \"Title\") \n",
    "\n",
    "- [LSTMネットワークの概要](https://qiita.com/KojiOhki/items/89cd7b69a8a6239d67ca \"Title\") \n",
    "\n",
    "- [わかるLSTM](https://qiita.com/t_Signull/items/21b82be280b46f467d1b \"Title\") "
   ]
  },
  {
   "cell_type": "code",
   "execution_count": null,
   "metadata": {
    "collapsed": true
   },
   "outputs": [],
   "source": []
  }
 ],
 "metadata": {
  "kernelspec": {
   "display_name": "Python 3",
   "language": "python",
   "name": "python3"
  },
  "language_info": {
   "codemirror_mode": {
    "name": "ipython",
    "version": 3
   },
   "file_extension": ".py",
   "mimetype": "text/x-python",
   "name": "python",
   "nbconvert_exporter": "python",
   "pygments_lexer": "ipython3",
   "version": "3.6.1"
  }
 },
 "nbformat": 4,
 "nbformat_minor": 2
}
