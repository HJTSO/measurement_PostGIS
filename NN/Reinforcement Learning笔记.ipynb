{
 "cells": [
  {
   "cell_type": "markdown",
   "metadata": {},
   "source": [
    "## 马尔可夫决策过程（Markov Decision Processes,MDPs）\n",
    "\n",
    "MDPs 简单说就是一个智能体（Agent）采取行动（Action）从而改变自己的状态（State）获得奖励（Reward）与环境（Environment）发生交互的循环过程。\n",
    "\n",
    "MDP 的策略完全取决于当前状态（Only present matters），可以简单表示为：  \n",
    "    \n",
    "    M = <S, A, P_{s,a}, R>\n",
    "    \n",
    "\n",
    "LaTeX公式编辑太麻烦，休息休息，更新中。。。。"
   ]
  }
 ],
 "metadata": {
  "kernelspec": {
   "display_name": "Python 3",
   "language": "python",
   "name": "python3"
  },
  "language_info": {
   "codemirror_mode": {
    "name": "ipython",
    "version": 3
   },
   "file_extension": ".py",
   "mimetype": "text/x-python",
   "name": "python",
   "nbconvert_exporter": "python",
   "pygments_lexer": "ipython3",
   "version": "3.6.1"
  }
 },
 "nbformat": 4,
 "nbformat_minor": 2
}
